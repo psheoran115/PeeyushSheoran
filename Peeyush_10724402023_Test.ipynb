{
 "cells": [
  {
   "cell_type": "code",
   "execution_count": 3,
   "id": "cb07d28a-7fde-414c-8075-feb75e1f5915",
   "metadata": {},
   "outputs": [
    {
     "name": "stdout",
     "output_type": "stream",
     "text": [
      "('1', '2', 'peeyush')\n",
      "[1, 2, 3]\n"
     ]
    }
   ],
   "source": [
    "#Section A\n",
    "#Question-1\n",
    "# A list can have all the types of Data types. It is reprsented in'()'\n",
    "\n",
    "\n",
    "a = ('1','2','peeyush')\n",
    "print(a)\n",
    "\n",
    "#A Tuple can have only one Data Type. It is reprsented in '[]'\n",
    "\n",
    "\n",
    "b = [1,2,3]\n",
    "print(b)"
   ]
  },
  {
   "cell_type": "code",
   "execution_count": 12,
   "id": "8d14b161-f432-4fe8-994a-6325844d6e59",
   "metadata": {},
   "outputs": [
    {
     "name": "stdout",
     "output_type": "stream",
     "text": [
      "{'CAR': 5, 'BAT': 10, 'CITY': 15}\n"
     ]
    }
   ],
   "source": [
    "#Question-3\n",
    "#Python Dictionary are used to store values.\n",
    "\n",
    "\n",
    "dict = {'CAR':5,\n",
    "       'BAT':10,\n",
    "       'CITY':15}\n",
    "print(dict)"
   ]
  },
  {
   "cell_type": "code",
   "execution_count": 10,
   "id": "dc36f290-43f0-4de1-9103-e533177b27c7",
   "metadata": {},
   "outputs": [
    {
     "name": "stdout",
     "output_type": "stream",
     "text": [
      "1\n",
      "2\n",
      "3\n",
      "4\n",
      "5\n"
     ]
    }
   ],
   "source": [
    "#Question-4\n",
    "#it simply perform the task between given the range and satisfyies the condition.\n",
    "\n",
    "\n",
    "for i in range(1,6):\n",
    "    print(i)"
   ]
  },
  {
   "cell_type": "code",
   "execution_count": null,
   "id": "6f791191-617a-4c39-82f3-ca69ff589a85",
   "metadata": {},
   "outputs": [],
   "source": [
    "#Question 5\n",
    "#Absent"
   ]
  },
  {
   "cell_type": "code",
   "execution_count": 23,
   "id": "7f51aec8-c076-42fc-bef1-2c7a5bcd5fef",
   "metadata": {},
   "outputs": [],
   "source": [
    "#Question 6\n",
    "#modules in pythons are numpy,pandas which makes helps to do a vast type of codes in python and is reusable too.\n",
    "#Question 6th second part \n",
    "#Absent "
   ]
  },
  {
   "cell_type": "code",
   "execution_count": 13,
   "id": "73040021-3e93-4f1f-9421-b96e2d061865",
   "metadata": {},
   "outputs": [],
   "source": [
    "#Question 7\n",
    "#OOPs 4 Pillars Enscapluation,Inheritance,Polymorphism,Abstraction"
   ]
  },
  {
   "cell_type": "code",
   "execution_count": 27,
   "id": "6c3dd1c8-4971-4948-a90c-63701e853918",
   "metadata": {},
   "outputs": [
    {
     "name": "stdout",
     "output_type": "stream",
     "text": [
      "1. Dragon Fruit\n",
      "2. Apple\n",
      "3. Banana\n",
      "4. Mango\n",
      "5. Black Berry\n"
     ]
    }
   ],
   "source": [
    "#Question 11\n",
    "fruit_list = ['Dragon Fruit','Apple','Banana','Mango','Black Berry']\n",
    "for index, fruit_list in enumerate(fruit_list, start=1):\n",
    "    print(f\"{index}. {fruit_list}\")\n"
   ]
  },
  {
   "cell_type": "code",
   "execution_count": 22,
   "id": "eaee4503-3e50-412e-8b4f-3a39b567f37d",
   "metadata": {},
   "outputs": [
    {
     "name": "stdout",
     "output_type": "stream",
     "text": [
      "Hello Peeyush,you are 20 years old\n"
     ]
    }
   ],
   "source": [
    "#Question 10\n",
    "def meeting(name,age):\n",
    "    print(f'Hello {name},you are {age} years old')\n",
    "\n",
    "meeting('Peeyush',20)    "
   ]
  }
 ],
 "metadata": {
  "kernelspec": {
   "display_name": "Python [conda env:base] *",
   "language": "python",
   "name": "conda-base-py"
  },
  "language_info": {
   "codemirror_mode": {
    "name": "ipython",
    "version": 3
   },
   "file_extension": ".py",
   "mimetype": "text/x-python",
   "name": "python",
   "nbconvert_exporter": "python",
   "pygments_lexer": "ipython3",
   "version": "3.13.5"
  }
 },
 "nbformat": 4,
 "nbformat_minor": 5
}
